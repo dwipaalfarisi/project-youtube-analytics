{
 "cells": [
  {
   "cell_type": "markdown",
   "id": "c326f6d4",
   "metadata": {
    "papermill": {
     "duration": 0.008813,
     "end_time": "2022-08-09T00:21:24.421446",
     "exception": false,
     "start_time": "2022-08-09T00:21:24.412633",
     "status": "completed"
    },
    "tags": []
   },
   "source": [
    "# Youtube Stats Pulled Daily"
   ]
  },
  {
   "cell_type": "markdown",
   "id": "4c480559",
   "metadata": {
    "papermill": {
     "duration": 0.007117,
     "end_time": "2022-08-09T00:21:24.436405",
     "exception": false,
     "start_time": "2022-08-09T00:21:24.429288",
     "status": "completed"
    },
    "tags": []
   },
   "source": [
    "# GadgetIn Daily Youtube Stats Notebook\n",
    "\n",
    "This notebook updates the GadgetIn Daily Youtube Dataset. It appends with the latest stats and a `pull_date`."
   ]
  },
  {
   "cell_type": "code",
   "execution_count": 15,
   "id": "715225ad",
   "metadata": {},
   "outputs": [],
   "source": [
    "from googleapiclient.discovery import build\n",
    "import pandas as pd\n",
    "import seaborn as sns\n",
    "import matplotlib.pyplot as plt\n",
    "%matplotlib inline\n",
    "import config"
   ]
  },
  {
   "cell_type": "code",
   "execution_count": 9,
   "id": "913c67fd",
   "metadata": {},
   "outputs": [],
   "source": [
    "channel_id = 'UC1dI4tO13ApuSX0QeX8pHng'\n",
    "channel_ids = [\n",
    "    'UCOmHUn--16B90oW2L6FRR3A', # Blackpink\n",
    "    'UC1dI4tO13ApuSX0QeX8pHng', # gadgetin\n",
    "    'UCVvhlqBpNVoG-DUT3J0oZ-w', # tara arts\n",
    "]\n",
    "youtube = build('youtube', 'v3', developerKey=config.api_key)"
   ]
  },
  {
   "cell_type": "markdown",
   "id": "d2a1519b",
   "metadata": {},
   "source": [
    "## Get Stats"
   ]
  },
  {
   "cell_type": "code",
   "execution_count": 10,
   "id": "82a90bee",
   "metadata": {},
   "outputs": [],
   "source": [
    "def get_channel_stats(youtube, channel_ids):\n",
    "    all_data = []\n",
    "    request = youtube.channels().list(\n",
    "        part='snippet,contentDetails,statistics',\n",
    "        id=','.join(channel_ids))\n",
    "    \n",
    "    response = request.execute()\n",
    "    \n",
    "    for i in range(len(response['items'])):\n",
    "        data = dict(channel_name = response['items'][i]['snippet']['title'],\n",
    "                    subscribers = response['items'][i]['statistics']['subscriberCount'],\n",
    "                    views = response['items'][i]['statistics']['viewCount'],\n",
    "                    video_count = response['items'][i]['statistics']['videoCount'],\n",
    "                    )\n",
    "        all_data.append(data)\n",
    "        \n",
    "    return all_data"
   ]
  },
  {
   "cell_type": "code",
   "execution_count": 11,
   "id": "b0e89c54",
   "metadata": {},
   "outputs": [
    {
     "data": {
      "text/plain": [
       "[{'channel_name': 'GadgetIn',\n",
       "  'subscribers': '9590000',\n",
       "  'views': '2077478967',\n",
       "  'video_count': '1250'},\n",
       " {'channel_name': 'Tara Arts Game Indonesia',\n",
       "  'subscribers': '1270000',\n",
       "  'views': '420942995',\n",
       "  'video_count': '1932'},\n",
       " {'channel_name': 'BLACKPINK',\n",
       "  'subscribers': '76200000',\n",
       "  'views': '24700102398',\n",
       "  'video_count': '397'}]"
      ]
     },
     "execution_count": 11,
     "metadata": {},
     "output_type": "execute_result"
    }
   ],
   "source": [
    "channel_statistics = get_channel_stats(youtube, channel_ids)\n",
    "channel_statistics"
   ]
  },
  {
   "cell_type": "code",
   "execution_count": 12,
   "id": "ae266402",
   "metadata": {},
   "outputs": [
    {
     "data": {
      "text/html": [
       "<div>\n",
       "<style scoped>\n",
       "    .dataframe tbody tr th:only-of-type {\n",
       "        vertical-align: middle;\n",
       "    }\n",
       "\n",
       "    .dataframe tbody tr th {\n",
       "        vertical-align: top;\n",
       "    }\n",
       "\n",
       "    .dataframe thead th {\n",
       "        text-align: right;\n",
       "    }\n",
       "</style>\n",
       "<table border=\"1\" class=\"dataframe\">\n",
       "  <thead>\n",
       "    <tr style=\"text-align: right;\">\n",
       "      <th></th>\n",
       "      <th>channel_name</th>\n",
       "      <th>subscribers</th>\n",
       "      <th>views</th>\n",
       "      <th>video_count</th>\n",
       "    </tr>\n",
       "  </thead>\n",
       "  <tbody>\n",
       "    <tr>\n",
       "      <th>0</th>\n",
       "      <td>GadgetIn</td>\n",
       "      <td>9590000</td>\n",
       "      <td>2077478967</td>\n",
       "      <td>1250</td>\n",
       "    </tr>\n",
       "    <tr>\n",
       "      <th>1</th>\n",
       "      <td>Tara Arts Game Indonesia</td>\n",
       "      <td>1270000</td>\n",
       "      <td>420942995</td>\n",
       "      <td>1932</td>\n",
       "    </tr>\n",
       "    <tr>\n",
       "      <th>2</th>\n",
       "      <td>BLACKPINK</td>\n",
       "      <td>76200000</td>\n",
       "      <td>24700102398</td>\n",
       "      <td>397</td>\n",
       "    </tr>\n",
       "  </tbody>\n",
       "</table>\n",
       "</div>"
      ],
      "text/plain": [
       "               channel_name subscribers        views video_count\n",
       "0                  GadgetIn     9590000   2077478967        1250\n",
       "1  Tara Arts Game Indonesia     1270000    420942995        1932\n",
       "2                 BLACKPINK    76200000  24700102398         397"
      ]
     },
     "execution_count": 12,
     "metadata": {},
     "output_type": "execute_result"
    }
   ],
   "source": [
    "channel_data = pd.DataFrame(channel_statistics)\n",
    "channel_data"
   ]
  },
  {
   "cell_type": "code",
   "execution_count": 14,
   "id": "2e43913f",
   "metadata": {},
   "outputs": [
    {
     "data": {
      "text/plain": [
       "channel_name    object\n",
       "subscribers      int64\n",
       "views            int64\n",
       "video_count      int64\n",
       "dtype: object"
      ]
     },
     "execution_count": 14,
     "metadata": {},
     "output_type": "execute_result"
    }
   ],
   "source": [
    "channel_data['subscribers'] = pd.to_numeric(channel_data['subscribers'])\n",
    "channel_data['views'] = pd.to_numeric(channel_data['views'])\n",
    "channel_data['video_count'] = pd.to_numeric(channel_data['video_count'])\n",
    "channel_data.dtypes"
   ]
  },
  {
   "cell_type": "code",
   "execution_count": 19,
   "id": "c23ae8c2",
   "metadata": {},
   "outputs": [
    {
     "data": {
      "image/png": "[encoded data removed]",
      "text/plain": [
       "<Figure size 432x288 with 1 Axes>"
      ]
     },
     "metadata": {
      "needs_background": "light"
     },
     "output_type": "display_data"
    }
   ],
   "source": [
    "plt.plot(channel_data['channel_name'], channel_data['views']);"
   ]
  },
  {
   "cell_type": "code",
   "execution_count": null,
   "id": "db030860",
   "metadata": {},
   "outputs": [],
   "source": []
  }
 ],
 "metadata": {
  "kernelspec": {
   "display_name": "Python 3.10.5 ('yt-analytics': venv)",
   "language": "python",
   "name": "python3"
  },
  "language_info": {
   "codemirror_mode": {
    "name": "ipython",
    "version": 3
   },
   "file_extension": ".py",
   "mimetype": "text/x-python",
   "name": "python",
   "nbconvert_exporter": "python",
   "pygments_lexer": "ipython3",
   "version": "3.10.5"
  },
  "papermill": {
   "default_parameters": {},
   "duration": 21.570632,
   "end_time": "2022-08-09T00:21:35.296065",
   "environment_variables": {},
   "exception": null,
   "input_path": "__notebook__.ipynb",
   "output_path": "__notebook__.ipynb",
   "parameters": {},
   "start_time": "2022-08-09T00:21:13.725433",
   "version": "2.3.3"
  },
  "vscode": {
   "interpreter": {
    "hash": "ea024d2ba238a8f2f4415f8a8a9f6356268ec54464ce7e42c9f4e1a3f98d5bef"
   }
  }
 },
 "nbformat": 4,
 "nbformat_minor": 5
}
