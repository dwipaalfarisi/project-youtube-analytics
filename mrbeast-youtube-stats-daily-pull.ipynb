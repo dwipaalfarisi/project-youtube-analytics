{
 "cells": [
  {
   "cell_type": "markdown",
   "id": "c326f6d4",
   "metadata": {
    "papermill": {
     "duration": 0.008813,
     "end_time": "2022-08-09T00:21:24.421446",
     "exception": false,
     "start_time": "2022-08-09T00:21:24.412633",
     "status": "completed"
    },
    "tags": []
   },
   "source": [
    "# Youtube Stats Pulled Daily"
   ]
  },
  {
   "cell_type": "markdown",
   "id": "4c480559",
   "metadata": {
    "papermill": {
     "duration": 0.007117,
     "end_time": "2022-08-09T00:21:24.436405",
     "exception": false,
     "start_time": "2022-08-09T00:21:24.429288",
     "status": "completed"
    },
    "tags": []
   },
   "source": [
    "# GadgetIn Daily Youtube Stats Notebook\n",
    "\n",
    "This notebook updates the GadgetIn Daily Youtube Dataset. It appends with the latest stats and a `pull_date`."
   ]
  },
  {
   "cell_type": "code",
   "execution_count": 16,
   "id": "715225ad",
   "metadata": {},
   "outputs": [],
   "source": [
    "from googleapiclient.discovery import build\n",
    "import json\n",
    "import pprint\n",
    "from IPython.display import JSON\n",
    "import pandas as pd\n",
    "import seaborn as sns\n",
    "import matplotlib.pyplot as plt\n",
    "%matplotlib inline\n",
    "import config"
   ]
  },
  {
   "cell_type": "code",
   "execution_count": 2,
   "id": "913c67fd",
   "metadata": {},
   "outputs": [],
   "source": [
    "channel_id = 'UC1dI4tO13ApuSX0QeX8pHng'\n",
    "channel_ids = [\n",
    "    'UCOmHUn--16B90oW2L6FRR3A', # Blackpink\n",
    "    'UC1dI4tO13ApuSX0QeX8pHng', # gadgetin\n",
    "    'UCVvhlqBpNVoG-DUT3J0oZ-w', # tara arts\n",
    "    'UCwljrkoI5jsfvAKgW3zNC7Q', # shopee\n",
    "    'UCAFlBkLMn1dmdYk0kBud4RA', # tokopedia\n",
    "]\n",
    "\n",
    "youtube = build('youtube', 'v3', developerKey=config.api_key)\n"
   ]
  },
  {
   "cell_type": "markdown",
   "id": "d2a1519b",
   "metadata": {},
   "source": [
    "## Get Stats"
   ]
  },
  {
   "cell_type": "code",
   "execution_count": 42,
   "id": "82a90bee",
   "metadata": {},
   "outputs": [],
   "source": [
    "def get_channel_stats(youtube, channel_ids):\n",
    "    all_data = []\n",
    "    request = youtube.channels().list(\n",
    "        part='snippet, contentDetails, statistics',\n",
    "        id=','.join(channel_ids))\n",
    "    \n",
    "    response = request.execute()\n",
    "    \n",
    "    for i in range(len(response['items'])):\n",
    "        data = dict(\n",
    "                    channel_name = response['items'][i]['snippet']['title'],\n",
    "                    subscribers = response['items'][i]['statistics']['subscriberCount'],\n",
    "                    total_views = response['items'][i]['statistics']['viewCount'],\n",
    "                    video_count = response['items'][i]['statistics']['videoCount'],\n",
    "                    playlistId = response['items'][i]['contentDetails']['relatedPlaylists']['uploads']\n",
    "                    )\n",
    "        all_data.append(data)\n",
    "        \n",
    "    return pd.DataFrame(all_data)\n",
    "\n",
    "def get_response_json(youtube, channel_ids):\n",
    "    request = youtube.channels().list(\n",
    "        part='snippet, contentDetails, statistics',\n",
    "        id=','.join(channel_ids))\n",
    "\n",
    "    response = request.execute()\n",
    "    \n",
    "    return JSON(response)\n",
    "    # return json.dumps(response, indent=4, sort_keys=True)\n",
    "\n",
    "\n",
    "def get_channel_stats_json(youtube, channel_ids):\n",
    "    all_data = []\n",
    "    request = youtube.channels().list(\n",
    "        part='snippet, contentDetails, statistics',\n",
    "        id=','.join(channel_ids))\n",
    "    \n",
    "    response = request.execute()\n",
    "    \n",
    "    for i in range(len(response['items'])):\n",
    "        data = dict(\n",
    "                    channel_name = response['items'][i]['snippet']['title'],\n",
    "                    subscribers = response['items'][i]['statistics']['subscriberCount'],\n",
    "                    total_views = response['items'][i]['statistics']['viewCount'],\n",
    "                    video_count = response['items'][i]['statistics']['videoCount'],\n",
    "                    playlistId = response['items'][i]['contentDetails']['relatedPlaylists']['uploads']\n",
    "                    )\n",
    "        all_data.append(data)\n",
    "        \n",
    "    return all_data\n"
   ]
  },
  {
   "cell_type": "markdown",
   "id": "4b17cd11",
   "metadata": {},
   "source": [
    "---"
   ]
  },
  {
   "cell_type": "code",
   "execution_count": 44,
   "id": "727c1876",
   "metadata": {},
   "outputs": [
    {
     "data": {
      "text/plain": [
       "[{'channel_name': 'GadgetIn',\n",
       "  'subscribers': '9600000',\n",
       "  'total_views': '2077478967',\n",
       "  'video_count': '1250',\n",
       "  'playlistId': 'UU1dI4tO13ApuSX0QeX8pHng'},\n",
       " {'channel_name': 'Tara Arts Game Indonesia',\n",
       "  'subscribers': '1270000',\n",
       "  'total_views': '420942995',\n",
       "  'video_count': '1933',\n",
       "  'playlistId': 'UUVvhlqBpNVoG-DUT3J0oZ-w'},\n",
       " {'channel_name': 'BLACKPINK',\n",
       "  'subscribers': '76200000',\n",
       "  'total_views': '24713550998',\n",
       "  'video_count': '397',\n",
       "  'playlistId': 'UUOmHUn--16B90oW2L6FRR3A'},\n",
       " {'channel_name': 'SHOPEE Indonesia',\n",
       "  'subscribers': '2430000',\n",
       "  'total_views': '6499057080',\n",
       "  'video_count': '3704',\n",
       "  'playlistId': 'UUwljrkoI5jsfvAKgW3zNC7Q'},\n",
       " {'channel_name': 'Tokopedia',\n",
       "  'subscribers': '2330000',\n",
       "  'total_views': '1723927158',\n",
       "  'video_count': '1037',\n",
       "  'playlistId': 'UUAFlBkLMn1dmdYk0kBud4RA'}]"
      ]
     },
     "execution_count": 44,
     "metadata": {},
     "output_type": "execute_result"
    }
   ],
   "source": [
    "# get stats as json\n",
    "channel_statistics_json = get_channel_stats_json(youtube, channel_ids)\n",
    "channel_statistics_json"
   ]
  },
  {
   "cell_type": "code",
   "execution_count": 45,
   "id": "ae266402",
   "metadata": {},
   "outputs": [
    {
     "data": {
      "text/html": [
       "<div>\n",
       "<style scoped>\n",
       "    .dataframe tbody tr th:only-of-type {\n",
       "        vertical-align: middle;\n",
       "    }\n",
       "\n",
       "    .dataframe tbody tr th {\n",
       "        vertical-align: top;\n",
       "    }\n",
       "\n",
       "    .dataframe thead th {\n",
       "        text-align: right;\n",
       "    }\n",
       "</style>\n",
       "<table border=\"1\" class=\"dataframe\">\n",
       "  <thead>\n",
       "    <tr style=\"text-align: right;\">\n",
       "      <th></th>\n",
       "      <th>channel_name</th>\n",
       "      <th>subscribers</th>\n",
       "      <th>total_views</th>\n",
       "      <th>video_count</th>\n",
       "      <th>playlistId</th>\n",
       "    </tr>\n",
       "  </thead>\n",
       "  <tbody>\n",
       "    <tr>\n",
       "      <th>0</th>\n",
       "      <td>GadgetIn</td>\n",
       "      <td>9600000</td>\n",
       "      <td>2077478967</td>\n",
       "      <td>1250</td>\n",
       "      <td>UU1dI4tO13ApuSX0QeX8pHng</td>\n",
       "    </tr>\n",
       "    <tr>\n",
       "      <th>1</th>\n",
       "      <td>Tara Arts Game Indonesia</td>\n",
       "      <td>1270000</td>\n",
       "      <td>420942995</td>\n",
       "      <td>1933</td>\n",
       "      <td>UUVvhlqBpNVoG-DUT3J0oZ-w</td>\n",
       "    </tr>\n",
       "    <tr>\n",
       "      <th>2</th>\n",
       "      <td>BLACKPINK</td>\n",
       "      <td>76200000</td>\n",
       "      <td>24713550998</td>\n",
       "      <td>397</td>\n",
       "      <td>UUOmHUn--16B90oW2L6FRR3A</td>\n",
       "    </tr>\n",
       "    <tr>\n",
       "      <th>3</th>\n",
       "      <td>SHOPEE Indonesia</td>\n",
       "      <td>2430000</td>\n",
       "      <td>6499057080</td>\n",
       "      <td>3704</td>\n",
       "      <td>UUwljrkoI5jsfvAKgW3zNC7Q</td>\n",
       "    </tr>\n",
       "    <tr>\n",
       "      <th>4</th>\n",
       "      <td>Tokopedia</td>\n",
       "      <td>2330000</td>\n",
       "      <td>1723927158</td>\n",
       "      <td>1037</td>\n",
       "      <td>UUAFlBkLMn1dmdYk0kBud4RA</td>\n",
       "    </tr>\n",
       "  </tbody>\n",
       "</table>\n",
       "</div>"
      ],
      "text/plain": [
       "               channel_name subscribers  total_views video_count  \\\n",
       "0                  GadgetIn     9600000   2077478967        1250   \n",
       "1  Tara Arts Game Indonesia     1270000    420942995        1933   \n",
       "2                 BLACKPINK    76200000  24713550998         397   \n",
       "3          SHOPEE Indonesia     2430000   6499057080        3704   \n",
       "4                 Tokopedia     2330000   1723927158        1037   \n",
       "\n",
       "                 playlistId  \n",
       "0  UU1dI4tO13ApuSX0QeX8pHng  \n",
       "1  UUVvhlqBpNVoG-DUT3J0oZ-w  \n",
       "2  UUOmHUn--16B90oW2L6FRR3A  \n",
       "3  UUwljrkoI5jsfvAKgW3zNC7Q  \n",
       "4  UUAFlBkLMn1dmdYk0kBud4RA  "
      ]
     },
     "execution_count": 45,
     "metadata": {},
     "output_type": "execute_result"
    }
   ],
   "source": [
    "channel_data_json_to_pd = pd.DataFrame(channel_statistics_json)\n",
    "channel_data_json_to_pd"
   ]
  },
  {
   "cell_type": "code",
   "execution_count": 54,
   "id": "2e43913f",
   "metadata": {},
   "outputs": [
    {
     "data": {
      "text/plain": [
       "channel_name    object\n",
       "subscribers      int64\n",
       "total_views      int64\n",
       "video_count      int64\n",
       "playlistId      object\n",
       "dtype: object"
      ]
     },
     "execution_count": 54,
     "metadata": {},
     "output_type": "execute_result"
    }
   ],
   "source": [
    "channel_data_json_to_pd['subscribers'] = pd.to_numeric(channel_data_json_to_pd['subscribers'])\n",
    "channel_data_json_to_pd['total_views'] = pd.to_numeric(channel_data_json_to_pd['total_views'])\n",
    "channel_data_json_to_pd['video_count'] = pd.to_numeric(channel_data_json_to_pd['video_count'])\n",
    "channel_data_json_to_pd.dtypes"
   ]
  },
  {
   "cell_type": "markdown",
   "id": "12a43c4c",
   "metadata": {},
   "source": [
    "---"
   ]
  },
  {
   "cell_type": "code",
   "execution_count": 40,
   "id": "b0e89c54",
   "metadata": {},
   "outputs": [
    {
     "data": {
      "text/html": [
       "<div>\n",
       "<style scoped>\n",
       "    .dataframe tbody tr th:only-of-type {\n",
       "        vertical-align: middle;\n",
       "    }\n",
       "\n",
       "    .dataframe tbody tr th {\n",
       "        vertical-align: top;\n",
       "    }\n",
       "\n",
       "    .dataframe thead th {\n",
       "        text-align: right;\n",
       "    }\n",
       "</style>\n",
       "<table border=\"1\" class=\"dataframe\">\n",
       "  <thead>\n",
       "    <tr style=\"text-align: right;\">\n",
       "      <th></th>\n",
       "      <th>channel_name</th>\n",
       "      <th>subscribers</th>\n",
       "      <th>total_views</th>\n",
       "      <th>video_count</th>\n",
       "      <th>playlistId</th>\n",
       "    </tr>\n",
       "  </thead>\n",
       "  <tbody>\n",
       "    <tr>\n",
       "      <th>0</th>\n",
       "      <td>GadgetIn</td>\n",
       "      <td>9600000</td>\n",
       "      <td>2077478967</td>\n",
       "      <td>1250</td>\n",
       "      <td>UU1dI4tO13ApuSX0QeX8pHng</td>\n",
       "    </tr>\n",
       "    <tr>\n",
       "      <th>1</th>\n",
       "      <td>Tara Arts Game Indonesia</td>\n",
       "      <td>1270000</td>\n",
       "      <td>420942995</td>\n",
       "      <td>1933</td>\n",
       "      <td>UUVvhlqBpNVoG-DUT3J0oZ-w</td>\n",
       "    </tr>\n",
       "    <tr>\n",
       "      <th>2</th>\n",
       "      <td>SHOPEE Indonesia</td>\n",
       "      <td>2430000</td>\n",
       "      <td>6499057080</td>\n",
       "      <td>3704</td>\n",
       "      <td>UUwljrkoI5jsfvAKgW3zNC7Q</td>\n",
       "    </tr>\n",
       "    <tr>\n",
       "      <th>3</th>\n",
       "      <td>Tokopedia</td>\n",
       "      <td>2330000</td>\n",
       "      <td>1723927158</td>\n",
       "      <td>1037</td>\n",
       "      <td>UUAFlBkLMn1dmdYk0kBud4RA</td>\n",
       "    </tr>\n",
       "    <tr>\n",
       "      <th>4</th>\n",
       "      <td>BLACKPINK</td>\n",
       "      <td>76200000</td>\n",
       "      <td>24713550998</td>\n",
       "      <td>397</td>\n",
       "      <td>UUOmHUn--16B90oW2L6FRR3A</td>\n",
       "    </tr>\n",
       "  </tbody>\n",
       "</table>\n",
       "</div>"
      ],
      "text/plain": [
       "               channel_name subscribers  total_views video_count  \\\n",
       "0                  GadgetIn     9600000   2077478967        1250   \n",
       "1  Tara Arts Game Indonesia     1270000    420942995        1933   \n",
       "2          SHOPEE Indonesia     2430000   6499057080        3704   \n",
       "3                 Tokopedia     2330000   1723927158        1037   \n",
       "4                 BLACKPINK    76200000  24713550998         397   \n",
       "\n",
       "                 playlistId  \n",
       "0  UU1dI4tO13ApuSX0QeX8pHng  \n",
       "1  UUVvhlqBpNVoG-DUT3J0oZ-w  \n",
       "2  UUwljrkoI5jsfvAKgW3zNC7Q  \n",
       "3  UUAFlBkLMn1dmdYk0kBud4RA  \n",
       "4  UUOmHUn--16B90oW2L6FRR3A  "
      ]
     },
     "execution_count": 40,
     "metadata": {},
     "output_type": "execute_result"
    }
   ],
   "source": [
    "# get response as a dataframe\n",
    "channel_statistics = get_channel_stats(youtube, channel_ids)\n",
    "channel_statistics"
   ]
  },
  {
   "cell_type": "code",
   "execution_count": 55,
   "id": "05e09538",
   "metadata": {},
   "outputs": [
    {
     "data": {
      "text/plain": [
       "channel_name    object\n",
       "subscribers      int64\n",
       "total_views      int64\n",
       "video_count      int64\n",
       "playlistId      object\n",
       "dtype: object"
      ]
     },
     "execution_count": 55,
     "metadata": {},
     "output_type": "execute_result"
    }
   ],
   "source": [
    "# change datatypes\n",
    "channel_statistics['subscribers'] = pd.to_numeric(channel_statistics['subscribers'])\n",
    "channel_statistics['total_views'] = pd.to_numeric(channel_statistics['total_views'])\n",
    "channel_statistics['video_count'] = pd.to_numeric(channel_statistics['video_count'])\n",
    "channel_statistics.dtypes"
   ]
  },
  {
   "cell_type": "code",
   "execution_count": 56,
   "id": "c23ae8c2",
   "metadata": {},
   "outputs": [
    {
     "data": {
      "image/png": "[encoded data removed]",
      "text/plain": [
       "<Figure size 432x288 with 1 Axes>"
      ]
     },
     "metadata": {
      "needs_background": "light"
     },
     "output_type": "display_data"
    }
   ],
   "source": [
    "plt.plot(channel_statistics['channel_name'], channel_statistics['total_views']);"
   ]
  },
  {
   "cell_type": "code",
   "execution_count": 78,
   "id": "2030626d",
   "metadata": {},
   "outputs": [],
   "source": [
    "# get playlist\n",
    "\n",
    "def get_playlist():\n",
    "    playlist_ids = []\n",
    "\n",
    "    for playlist_id in channel_statistics['playlistId']: \n",
    "        request = youtube.playlistItems().list(\n",
    "            part=\"snippet,contentDetails\",\n",
    "            playlistId = playlist_id\n",
    "        )\n",
    "        response = request.execute()\n",
    "\n",
    "        playlist_ids.append(playlist_id)\n",
    "        return playlist_ids\n",
    "        # revise: need to return pairs of channel_name, playlist_id\n",
    "\n",
    "def get_video_ids():\n",
    "        video_ids = []\n",
    "\n",
    "        request = youtube.playlistItems().list(\n",
    "            part=\"snippet,contentDetails\",\n",
    "            playlistId = playlist_id\n",
    "        )\n",
    "        response = request.execute()\n",
    "        for index, video_id in response['items']: \n",
    "            video_ids.append(video_id[index]['contentDetails']['videoId'])\n",
    "\n",
    "        return video_ids\n",
    "        # revise: return all video_ids for given channel"
   ]
  },
  {
   "cell_type": "code",
   "execution_count": 79,
   "id": "74a1de93",
   "metadata": {},
   "outputs": [
    {
     "data": {
      "text/plain": [
       "['UU1dI4tO13ApuSX0QeX8pHng']"
      ]
     },
     "execution_count": 79,
     "metadata": {},
     "output_type": "execute_result"
    }
   ],
   "source": [
    "get_playlist()"
   ]
  },
  {
   "cell_type": "code",
   "execution_count": null,
   "id": "3001dbe8",
   "metadata": {},
   "outputs": [],
   "source": []
  },
  {
   "cell_type": "code",
   "execution_count": null,
   "id": "20197e8f",
   "metadata": {},
   "outputs": [],
   "source": []
  }
 ],
 "metadata": {
  "kernelspec": {
   "display_name": "Python 3.10.5 ('yt-analytics': venv)",
   "language": "python",
   "name": "python3"
  },
  "language_info": {
   "codemirror_mode": {
    "name": "ipython",
    "version": 3
   },
   "file_extension": ".py",
   "mimetype": "text/x-python",
   "name": "python",
   "nbconvert_exporter": "python",
   "pygments_lexer": "ipython3",
   "version": "3.10.5"
  },
  "papermill": {
   "default_parameters": {},
   "duration": 21.570632,
   "end_time": "2022-08-09T00:21:35.296065",
   "environment_variables": {},
   "exception": null,
   "input_path": "__notebook__.ipynb",
   "output_path": "__notebook__.ipynb",
   "parameters": {},
   "start_time": "2022-08-09T00:21:13.725433",
   "version": "2.3.3"
  },
  "vscode": {
   "interpreter": {
    "hash": "ea024d2ba238a8f2f4415f8a8a9f6356268ec54464ce7e42c9f4e1a3f98d5bef"
   }
  }
 },
 "nbformat": 4,
 "nbformat_minor": 5
}
