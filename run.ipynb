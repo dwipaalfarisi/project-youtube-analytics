{
 "cells": [
  {
   "cell_type": "code",
   "execution_count": 3,
   "metadata": {},
   "outputs": [
    {
     "data": {
      "text/html": [
       "<div>\n",
       "<style scoped>\n",
       "    .dataframe tbody tr th:only-of-type {\n",
       "        vertical-align: middle;\n",
       "    }\n",
       "\n",
       "    .dataframe tbody tr th {\n",
       "        vertical-align: top;\n",
       "    }\n",
       "\n",
       "    .dataframe thead th {\n",
       "        text-align: right;\n",
       "    }\n",
       "</style>\n",
       "<table border=\"1\" class=\"dataframe\">\n",
       "  <thead>\n",
       "    <tr style=\"text-align: right;\">\n",
       "      <th></th>\n",
       "      <th>channel_name</th>\n",
       "      <th>subscribers</th>\n",
       "      <th>total_views</th>\n",
       "      <th>video_count</th>\n",
       "      <th>playlistId</th>\n",
       "    </tr>\n",
       "  </thead>\n",
       "  <tbody>\n",
       "    <tr>\n",
       "      <th>0</th>\n",
       "      <td>BLACKPINK</td>\n",
       "      <td>76300000</td>\n",
       "      <td>24721416576</td>\n",
       "      <td>397</td>\n",
       "      <td>UUOmHUn--16B90oW2L6FRR3A</td>\n",
       "    </tr>\n",
       "    <tr>\n",
       "      <th>1</th>\n",
       "      <td>GadgetIn</td>\n",
       "      <td>9600000</td>\n",
       "      <td>2079714785</td>\n",
       "      <td>1251</td>\n",
       "      <td>UU1dI4tO13ApuSX0QeX8pHng</td>\n",
       "    </tr>\n",
       "    <tr>\n",
       "      <th>2</th>\n",
       "      <td>SHOPEE Indonesia</td>\n",
       "      <td>2430000</td>\n",
       "      <td>6505122295</td>\n",
       "      <td>3664</td>\n",
       "      <td>UUwljrkoI5jsfvAKgW3zNC7Q</td>\n",
       "    </tr>\n",
       "    <tr>\n",
       "      <th>3</th>\n",
       "      <td>Tara Arts Game Indonesia</td>\n",
       "      <td>1270000</td>\n",
       "      <td>421254235</td>\n",
       "      <td>1936</td>\n",
       "      <td>UUVvhlqBpNVoG-DUT3J0oZ-w</td>\n",
       "    </tr>\n",
       "    <tr>\n",
       "      <th>4</th>\n",
       "      <td>Tokopedia</td>\n",
       "      <td>2330000</td>\n",
       "      <td>1724018464</td>\n",
       "      <td>1037</td>\n",
       "      <td>UUAFlBkLMn1dmdYk0kBud4RA</td>\n",
       "    </tr>\n",
       "  </tbody>\n",
       "</table>\n",
       "</div>"
      ],
      "text/plain": [
       "               channel_name subscribers  total_views video_count  \\\n",
       "0                 BLACKPINK    76300000  24721416576         397   \n",
       "1                  GadgetIn     9600000   2079714785        1251   \n",
       "2          SHOPEE Indonesia     2430000   6505122295        3664   \n",
       "3  Tara Arts Game Indonesia     1270000    421254235        1936   \n",
       "4                 Tokopedia     2330000   1724018464        1037   \n",
       "\n",
       "                 playlistId  \n",
       "0  UUOmHUn--16B90oW2L6FRR3A  \n",
       "1  UU1dI4tO13ApuSX0QeX8pHng  \n",
       "2  UUwljrkoI5jsfvAKgW3zNC7Q  \n",
       "3  UUVvhlqBpNVoG-DUT3J0oZ-w  \n",
       "4  UUAFlBkLMn1dmdYk0kBud4RA  "
      ]
     },
     "execution_count": 3,
     "metadata": {},
     "output_type": "execute_result"
    }
   ],
   "source": [
    "from main import *\n",
    "# get response as a dataframe\n",
    "channel_statistics = get_channel_stats(youtube, channel_ids)\n",
    "channel_statistics.sort_values('channel_name', ignore_index=True, inplace=True)\n",
    "channel_statistics"
   ]
  },
  {
   "cell_type": "code",
   "execution_count": 4,
   "metadata": {},
   "outputs": [
    {
     "data": {
      "text/plain": [
       "channel_name    object\n",
       "subscribers      int64\n",
       "total_views      int64\n",
       "video_count      int64\n",
       "playlistId      object\n",
       "dtype: object"
      ]
     },
     "execution_count": 4,
     "metadata": {},
     "output_type": "execute_result"
    }
   ],
   "source": [
    "# change datatypes\n",
    "channel_statistics['subscribers'] = pd.to_numeric(channel_statistics['subscribers'])\n",
    "channel_statistics['total_views'] = pd.to_numeric(channel_statistics['total_views'])\n",
    "channel_statistics['video_count'] = pd.to_numeric(channel_statistics['video_count'])\n",
    "channel_statistics.dtypes"
   ]
  },
  {
   "cell_type": "code",
   "execution_count": 5,
   "metadata": {},
   "outputs": [
    {
     "data": {
      "image/png": "[encoded data removed]",
      "text/plain": [
       "<Figure size 432x288 with 1 Axes>"
      ]
     },
     "metadata": {
      "needs_background": "light"
     },
     "output_type": "display_data"
    }
   ],
   "source": [
    "plt.plot(channel_statistics['channel_name'], channel_statistics['total_views']);"
   ]
  },
  {
   "cell_type": "code",
   "execution_count": 6,
   "metadata": {},
   "outputs": [
    {
     "data": {
      "text/plain": [
       "397"
      ]
     },
     "execution_count": 6,
     "metadata": {},
     "output_type": "execute_result"
    }
   ],
   "source": [
    "# get_playlist for video_ids\n",
    "get_playlist_ids = get_playlist(youtube, channel_statistics)[0] # blackpink\n",
    "\n",
    "video_ids1 = get_video_ids(youtube, get_playlist_ids)\n",
    "len(video_ids1)"
   ]
  },
  {
   "cell_type": "code",
   "execution_count": 7,
   "metadata": {},
   "outputs": [
    {
     "data": {
      "text/html": [
       "<div>\n",
       "<style scoped>\n",
       "    .dataframe tbody tr th:only-of-type {\n",
       "        vertical-align: middle;\n",
       "    }\n",
       "\n",
       "    .dataframe tbody tr th {\n",
       "        vertical-align: top;\n",
       "    }\n",
       "\n",
       "    .dataframe thead th {\n",
       "        text-align: right;\n",
       "    }\n",
       "</style>\n",
       "<table border=\"1\" class=\"dataframe\">\n",
       "  <thead>\n",
       "    <tr style=\"text-align: right;\">\n",
       "      <th></th>\n",
       "      <th>video_id</th>\n",
       "      <th>title</th>\n",
       "      <th>description</th>\n",
       "      <th>tags</th>\n",
       "      <th>published_at</th>\n",
       "      <th>thumbnails</th>\n",
       "      <th>view_count</th>\n",
       "      <th>like_count</th>\n",
       "      <th>comment_count</th>\n",
       "      <th>duration</th>\n",
       "      <th>definition</th>\n",
       "      <th>caption</th>\n",
       "    </tr>\n",
       "  </thead>\n",
       "  <tbody>\n",
       "    <tr>\n",
       "      <th>0</th>\n",
       "      <td>nxs0RHpT_Hg</td>\n",
       "      <td>BLACKPINK - 'BORN PINK' ANNOUNCEMENT TRAILER</td>\n",
       "      <td>#BLACKPINK #블랙핑크 #BORNPINK #ANNOUNCEMENT #TRAI...</td>\n",
       "      <td>[YG Entertainment, YG, 와이지, K-pop, BLACKPINK, ...</td>\n",
       "      <td>2022-07-31T15:00:27Z</td>\n",
       "      <td>https://i.ytimg.com/vi/nxs0RHpT_Hg/hqdefault.jpg</td>\n",
       "      <td>19202534</td>\n",
       "      <td>2401591</td>\n",
       "      <td>231472</td>\n",
       "      <td>PT31S</td>\n",
       "      <td>hd</td>\n",
       "      <td>false</td>\n",
       "    </tr>\n",
       "    <tr>\n",
       "      <th>1</th>\n",
       "      <td>7WyHtSlvHD4</td>\n",
       "      <td>BLACKPINK X PUBG MOBILE - ‘Ready For Love’ M/V</td>\n",
       "      <td>BLACKPINK X PUBG MOBILE - ‘Ready For Love’ M/V...</td>\n",
       "      <td>[YG Entertainment, YG, 와이지, K-pop, BLACKPINK, ...</td>\n",
       "      <td>2022-07-29T04:00:03Z</td>\n",
       "      <td>https://i.ytimg.com/vi/7WyHtSlvHD4/hqdefault.jpg</td>\n",
       "      <td>55857242</td>\n",
       "      <td>4225717</td>\n",
       "      <td>632841</td>\n",
       "      <td>PT3M7S</td>\n",
       "      <td>hd</td>\n",
       "      <td>true</td>\n",
       "    </tr>\n",
       "    <tr>\n",
       "      <th>2</th>\n",
       "      <td>8rceGqSF4-w</td>\n",
       "      <td>CALLING ALL BLINKS: REFLECT ON #COP26 주한 영국대사와...</td>\n",
       "      <td>BLACKPINK returned to the British Embassy in S...</td>\n",
       "      <td>[YG Entertainment, YG, 와이지, K-pop, BLACKPINK, ...</td>\n",
       "      <td>2022-06-02T02:00:01Z</td>\n",
       "      <td>https://i.ytimg.com/vi/8rceGqSF4-w/hqdefault.jpg</td>\n",
       "      <td>4118650</td>\n",
       "      <td>543327</td>\n",
       "      <td>30757</td>\n",
       "      <td>PT2M17S</td>\n",
       "      <td>hd</td>\n",
       "      <td>false</td>\n",
       "    </tr>\n",
       "    <tr>\n",
       "      <th>3</th>\n",
       "      <td>OZdK1czhuv8</td>\n",
       "      <td>BLACKPINK 2022 WELCOMING COLLECTION PREVIEW</td>\n",
       "      <td>#BLACKPINK #블랙핑크 #2022 #WELCOMING_COLLECTION #...</td>\n",
       "      <td>[YG Entertainment, YG, 와이지, K-pop, BLACKPINK, ...</td>\n",
       "      <td>2022-02-14T07:00:05Z</td>\n",
       "      <td>https://i.ytimg.com/vi/OZdK1czhuv8/hqdefault.jpg</td>\n",
       "      <td>9083696</td>\n",
       "      <td>935471</td>\n",
       "      <td>43633</td>\n",
       "      <td>PT31S</td>\n",
       "      <td>hd</td>\n",
       "      <td>true</td>\n",
       "    </tr>\n",
       "    <tr>\n",
       "      <th>4</th>\n",
       "      <td>0pJ1oD-OXZo</td>\n",
       "      <td>CALLING ALL BLINKS: CLIMATE ACTION IN YOUR ARE...</td>\n",
       "      <td>We can still realise what was promised in Pari...</td>\n",
       "      <td>[YG Entertainment, YG, 와이지, K-pop, BLACKPINK, ...</td>\n",
       "      <td>2021-11-03T02:00:01Z</td>\n",
       "      <td>https://i.ytimg.com/vi/0pJ1oD-OXZo/hqdefault.jpg</td>\n",
       "      <td>12754926</td>\n",
       "      <td>1162552</td>\n",
       "      <td>42272</td>\n",
       "      <td>PT2M24S</td>\n",
       "      <td>hd</td>\n",
       "      <td>false</td>\n",
       "    </tr>\n",
       "  </tbody>\n",
       "</table>\n",
       "</div>"
      ],
      "text/plain": [
       "      video_id                                              title  \\\n",
       "0  nxs0RHpT_Hg       BLACKPINK - 'BORN PINK' ANNOUNCEMENT TRAILER   \n",
       "1  7WyHtSlvHD4     BLACKPINK X PUBG MOBILE - ‘Ready For Love’ M/V   \n",
       "2  8rceGqSF4-w  CALLING ALL BLINKS: REFLECT ON #COP26 주한 영국대사와...   \n",
       "3  OZdK1czhuv8        BLACKPINK 2022 WELCOMING COLLECTION PREVIEW   \n",
       "4  0pJ1oD-OXZo  CALLING ALL BLINKS: CLIMATE ACTION IN YOUR ARE...   \n",
       "\n",
       "                                         description  \\\n",
       "0  #BLACKPINK #블랙핑크 #BORNPINK #ANNOUNCEMENT #TRAI...   \n",
       "1  BLACKPINK X PUBG MOBILE - ‘Ready For Love’ M/V...   \n",
       "2  BLACKPINK returned to the British Embassy in S...   \n",
       "3  #BLACKPINK #블랙핑크 #2022 #WELCOMING_COLLECTION #...   \n",
       "4  We can still realise what was promised in Pari...   \n",
       "\n",
       "                                                tags          published_at  \\\n",
       "0  [YG Entertainment, YG, 와이지, K-pop, BLACKPINK, ...  2022-07-31T15:00:27Z   \n",
       "1  [YG Entertainment, YG, 와이지, K-pop, BLACKPINK, ...  2022-07-29T04:00:03Z   \n",
       "2  [YG Entertainment, YG, 와이지, K-pop, BLACKPINK, ...  2022-06-02T02:00:01Z   \n",
       "3  [YG Entertainment, YG, 와이지, K-pop, BLACKPINK, ...  2022-02-14T07:00:05Z   \n",
       "4  [YG Entertainment, YG, 와이지, K-pop, BLACKPINK, ...  2021-11-03T02:00:01Z   \n",
       "\n",
       "                                         thumbnails view_count like_count  \\\n",
       "0  https://i.ytimg.com/vi/nxs0RHpT_Hg/hqdefault.jpg   19202534    2401591   \n",
       "1  https://i.ytimg.com/vi/7WyHtSlvHD4/hqdefault.jpg   55857242    4225717   \n",
       "2  https://i.ytimg.com/vi/8rceGqSF4-w/hqdefault.jpg    4118650     543327   \n",
       "3  https://i.ytimg.com/vi/OZdK1czhuv8/hqdefault.jpg    9083696     935471   \n",
       "4  https://i.ytimg.com/vi/0pJ1oD-OXZo/hqdefault.jpg   12754926    1162552   \n",
       "\n",
       "  comment_count duration definition caption  \n",
       "0        231472    PT31S         hd   false  \n",
       "1        632841   PT3M7S         hd    true  \n",
       "2         30757  PT2M17S         hd   false  \n",
       "3         43633    PT31S         hd    true  \n",
       "4         42272  PT2M24S         hd   false  "
      ]
     },
     "execution_count": 7,
     "metadata": {},
     "output_type": "execute_result"
    }
   ],
   "source": [
    "# get only 5 video ids\n",
    "five_video_id = video_ids1[0:5]\n",
    "get_video_details(youtube, five_video_id)"
   ]
  },
  {
   "cell_type": "code",
   "execution_count": 8,
   "metadata": {},
   "outputs": [
    {
     "data": {
      "text/html": [
       "<div>\n",
       "<style scoped>\n",
       "    .dataframe tbody tr th:only-of-type {\n",
       "        vertical-align: middle;\n",
       "    }\n",
       "\n",
       "    .dataframe tbody tr th {\n",
       "        vertical-align: top;\n",
       "    }\n",
       "\n",
       "    .dataframe thead th {\n",
       "        text-align: right;\n",
       "    }\n",
       "</style>\n",
       "<table border=\"1\" class=\"dataframe\">\n",
       "  <thead>\n",
       "    <tr style=\"text-align: right;\">\n",
       "      <th></th>\n",
       "      <th>video_id</th>\n",
       "      <th>comments</th>\n",
       "    </tr>\n",
       "  </thead>\n",
       "  <tbody>\n",
       "    <tr>\n",
       "      <th>0</th>\n",
       "      <td>nxs0RHpT_Hg</td>\n",
       "      <td>[تاي حسنتهم لولاهم البيتياس بالحضيض مو اسفه ذي...</td>\n",
       "    </tr>\n",
       "    <tr>\n",
       "      <th>1</th>\n",
       "      <td>7WyHtSlvHD4</td>\n",
       "      <td>[Queens are coming blinks, Bp🖤💓, BLACKPINK EST...</td>\n",
       "    </tr>\n",
       "    <tr>\n",
       "      <th>2</th>\n",
       "      <td>8rceGqSF4-w</td>\n",
       "      <td>[사랑해요  black pink ♥️, hay blak baynak ahbukum ...</td>\n",
       "    </tr>\n",
       "    <tr>\n",
       "      <th>3</th>\n",
       "      <td>OZdK1czhuv8</td>\n",
       "      <td>[Um, yeah about what Jennie was hiding, was th...</td>\n",
       "    </tr>\n",
       "    <tr>\n",
       "      <th>4</th>\n",
       "      <td>0pJ1oD-OXZo</td>\n",
       "      <td>[😂😂😂😂, Yerim sizziiiiii, 🇰🇷😩🌹💕, Save our plane...</td>\n",
       "    </tr>\n",
       "  </tbody>\n",
       "</table>\n",
       "</div>"
      ],
      "text/plain": [
       "      video_id                                           comments\n",
       "0  nxs0RHpT_Hg  [تاي حسنتهم لولاهم البيتياس بالحضيض مو اسفه ذي...\n",
       "1  7WyHtSlvHD4  [Queens are coming blinks, Bp🖤💓, BLACKPINK EST...\n",
       "2  8rceGqSF4-w  [사랑해요  black pink ♥️, hay blak baynak ahbukum ...\n",
       "3  OZdK1czhuv8  [Um, yeah about what Jennie was hiding, was th...\n",
       "4  0pJ1oD-OXZo  [😂😂😂😂, Yerim sizziiiiii, 🇰🇷😩🌹💕, Save our plane..."
      ]
     },
     "execution_count": 8,
     "metadata": {},
     "output_type": "execute_result"
    }
   ],
   "source": [
    "five_video_comments_df = get_comments_in_videos(youtube, five_video_id)\n",
    "five_video_comments_df"
   ]
  }
 ],
 "metadata": {
  "kernelspec": {
   "display_name": "Python 3.10.5 ('yt-analytics': venv)",
   "language": "python",
   "name": "python3"
  },
  "language_info": {
   "codemirror_mode": {
    "name": "ipython",
    "version": 3
   },
   "file_extension": ".py",
   "mimetype": "text/x-python",
   "name": "python",
   "nbconvert_exporter": "python",
   "pygments_lexer": "ipython3",
   "version": "3.10.5"
  },
  "orig_nbformat": 4,
  "vscode": {
   "interpreter": {
    "hash": "ea024d2ba238a8f2f4415f8a8a9f6356268ec54464ce7e42c9f4e1a3f98d5bef"
   }
  }
 },
 "nbformat": 4,
 "nbformat_minor": 2
}
