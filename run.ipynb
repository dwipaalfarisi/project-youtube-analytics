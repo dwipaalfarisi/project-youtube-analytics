{
 "cells": [
  {
   "cell_type": "code",
   "execution_count": 45,
   "metadata": {},
   "outputs": [],
   "source": [
    "from main import *\n",
    "from googleapiclient.discovery import build\n",
    "import json\n",
    "import pprint\n",
    "from IPython.display import JSON\n",
    "import pandas as pd\n",
    "import seaborn as sns\n",
    "import matplotlib.pyplot as plt\n",
    "%matplotlib inline\n",
    "import config\n",
    "from numerize import numerize"
   ]
  },
  {
   "cell_type": "code",
   "execution_count": 46,
   "metadata": {},
   "outputs": [],
   "source": [
    "channel_id = 'UC1dI4tO13ApuSX0QeX8pHng'\n",
    "channel_ids = [\n",
    "    'UCOmHUn--16B90oW2L6FRR3A', # Blackpink\n",
    "    'UC1dI4tO13ApuSX0QeX8pHng', # gadgetin\n",
    "    'UCVvhlqBpNVoG-DUT3J0oZ-w', # tara arts\n",
    "    'UCwljrkoI5jsfvAKgW3zNC7Q', # shopee\n",
    "    'UCAFlBkLMn1dmdYk0kBud4RA', # tokopedia\n",
    "]\n",
    "\n",
    "youtube = build('youtube', 'v3', developerKey=config.api_key)"
   ]
  },
  {
   "cell_type": "code",
   "execution_count": 47,
   "metadata": {},
   "outputs": [
    {
     "data": {
      "text/html": [
       "<div>\n",
       "<style scoped>\n",
       "    .dataframe tbody tr th:only-of-type {\n",
       "        vertical-align: middle;\n",
       "    }\n",
       "\n",
       "    .dataframe tbody tr th {\n",
       "        vertical-align: top;\n",
       "    }\n",
       "\n",
       "    .dataframe thead th {\n",
       "        text-align: right;\n",
       "    }\n",
       "</style>\n",
       "<table border=\"1\" class=\"dataframe\">\n",
       "  <thead>\n",
       "    <tr style=\"text-align: right;\">\n",
       "      <th></th>\n",
       "      <th>channel_name</th>\n",
       "      <th>subscribers</th>\n",
       "      <th>total_views</th>\n",
       "      <th>video_count</th>\n",
       "      <th>playlistId</th>\n",
       "    </tr>\n",
       "  </thead>\n",
       "  <tbody>\n",
       "    <tr>\n",
       "      <th>0</th>\n",
       "      <td>GadgetIn</td>\n",
       "      <td>9610000</td>\n",
       "      <td>2085951930</td>\n",
       "      <td>1255</td>\n",
       "      <td>UU1dI4tO13ApuSX0QeX8pHng</td>\n",
       "    </tr>\n",
       "    <tr>\n",
       "      <th>1</th>\n",
       "      <td>Tara Arts Game Indonesia</td>\n",
       "      <td>1270000</td>\n",
       "      <td>421954293</td>\n",
       "      <td>1941</td>\n",
       "      <td>UUVvhlqBpNVoG-DUT3J0oZ-w</td>\n",
       "    </tr>\n",
       "    <tr>\n",
       "      <th>2</th>\n",
       "      <td>BLACKPINK</td>\n",
       "      <td>76600000</td>\n",
       "      <td>24887833021</td>\n",
       "      <td>407</td>\n",
       "      <td>UUOmHUn--16B90oW2L6FRR3A</td>\n",
       "    </tr>\n",
       "    <tr>\n",
       "      <th>3</th>\n",
       "      <td>SHOPEE Indonesia</td>\n",
       "      <td>2440000</td>\n",
       "      <td>6422460927</td>\n",
       "      <td>3688</td>\n",
       "      <td>UUwljrkoI5jsfvAKgW3zNC7Q</td>\n",
       "    </tr>\n",
       "    <tr>\n",
       "      <th>4</th>\n",
       "      <td>Tokopedia</td>\n",
       "      <td>2320000</td>\n",
       "      <td>1724203428</td>\n",
       "      <td>1038</td>\n",
       "      <td>UUAFlBkLMn1dmdYk0kBud4RA</td>\n",
       "    </tr>\n",
       "  </tbody>\n",
       "</table>\n",
       "</div>"
      ],
      "text/plain": [
       "               channel_name subscribers  total_views video_count  \\\n",
       "0                  GadgetIn     9610000   2085951930        1255   \n",
       "1  Tara Arts Game Indonesia     1270000    421954293        1941   \n",
       "2                 BLACKPINK    76600000  24887833021         407   \n",
       "3          SHOPEE Indonesia     2440000   6422460927        3688   \n",
       "4                 Tokopedia     2320000   1724203428        1038   \n",
       "\n",
       "                 playlistId  \n",
       "0  UU1dI4tO13ApuSX0QeX8pHng  \n",
       "1  UUVvhlqBpNVoG-DUT3J0oZ-w  \n",
       "2  UUOmHUn--16B90oW2L6FRR3A  \n",
       "3  UUwljrkoI5jsfvAKgW3zNC7Q  \n",
       "4  UUAFlBkLMn1dmdYk0kBud4RA  "
      ]
     },
     "execution_count": 47,
     "metadata": {},
     "output_type": "execute_result"
    }
   ],
   "source": [
    "channel_statistics = get_channel_stats(youtube, channel_ids)\n",
    "channel_statistics"
   ]
  },
  {
   "cell_type": "code",
   "execution_count": 48,
   "metadata": {},
   "outputs": [
    {
     "data": {
      "text/html": [
       "<div>\n",
       "<style scoped>\n",
       "    .dataframe tbody tr th:only-of-type {\n",
       "        vertical-align: middle;\n",
       "    }\n",
       "\n",
       "    .dataframe tbody tr th {\n",
       "        vertical-align: top;\n",
       "    }\n",
       "\n",
       "    .dataframe thead th {\n",
       "        text-align: right;\n",
       "    }\n",
       "</style>\n",
       "<table border=\"1\" class=\"dataframe\">\n",
       "  <thead>\n",
       "    <tr style=\"text-align: right;\">\n",
       "      <th></th>\n",
       "      <th>channel_name</th>\n",
       "      <th>subscribers</th>\n",
       "      <th>total_views</th>\n",
       "      <th>video_count</th>\n",
       "      <th>playlistId</th>\n",
       "    </tr>\n",
       "  </thead>\n",
       "  <tbody>\n",
       "    <tr>\n",
       "      <th>0</th>\n",
       "      <td>BLACKPINK</td>\n",
       "      <td>76600000</td>\n",
       "      <td>24887833021</td>\n",
       "      <td>407</td>\n",
       "      <td>UUOmHUn--16B90oW2L6FRR3A</td>\n",
       "    </tr>\n",
       "    <tr>\n",
       "      <th>1</th>\n",
       "      <td>GadgetIn</td>\n",
       "      <td>9610000</td>\n",
       "      <td>2085951930</td>\n",
       "      <td>1255</td>\n",
       "      <td>UU1dI4tO13ApuSX0QeX8pHng</td>\n",
       "    </tr>\n",
       "    <tr>\n",
       "      <th>2</th>\n",
       "      <td>SHOPEE Indonesia</td>\n",
       "      <td>2440000</td>\n",
       "      <td>6422460927</td>\n",
       "      <td>3688</td>\n",
       "      <td>UUwljrkoI5jsfvAKgW3zNC7Q</td>\n",
       "    </tr>\n",
       "    <tr>\n",
       "      <th>3</th>\n",
       "      <td>Tara Arts Game Indonesia</td>\n",
       "      <td>1270000</td>\n",
       "      <td>421954293</td>\n",
       "      <td>1941</td>\n",
       "      <td>UUVvhlqBpNVoG-DUT3J0oZ-w</td>\n",
       "    </tr>\n",
       "    <tr>\n",
       "      <th>4</th>\n",
       "      <td>Tokopedia</td>\n",
       "      <td>2320000</td>\n",
       "      <td>1724203428</td>\n",
       "      <td>1038</td>\n",
       "      <td>UUAFlBkLMn1dmdYk0kBud4RA</td>\n",
       "    </tr>\n",
       "  </tbody>\n",
       "</table>\n",
       "</div>"
      ],
      "text/plain": [
       "               channel_name subscribers  total_views video_count  \\\n",
       "0                 BLACKPINK    76600000  24887833021         407   \n",
       "1                  GadgetIn     9610000   2085951930        1255   \n",
       "2          SHOPEE Indonesia     2440000   6422460927        3688   \n",
       "3  Tara Arts Game Indonesia     1270000    421954293        1941   \n",
       "4                 Tokopedia     2320000   1724203428        1038   \n",
       "\n",
       "                 playlistId  \n",
       "0  UUOmHUn--16B90oW2L6FRR3A  \n",
       "1  UU1dI4tO13ApuSX0QeX8pHng  \n",
       "2  UUwljrkoI5jsfvAKgW3zNC7Q  \n",
       "3  UUVvhlqBpNVoG-DUT3J0oZ-w  \n",
       "4  UUAFlBkLMn1dmdYk0kBud4RA  "
      ]
     },
     "execution_count": 48,
     "metadata": {},
     "output_type": "execute_result"
    }
   ],
   "source": [
    "# get response as a dataframe\n",
    "channel_statistics = get_channel_stats(youtube, channel_ids)\n",
    "channel_statistics.sort_values('channel_name', ignore_index=True, inplace=True)\n",
    "channel_statistics"
   ]
  },
  {
   "cell_type": "code",
   "execution_count": 49,
   "metadata": {},
   "outputs": [
    {
     "data": {
      "text/plain": [
       "channel_name    object\n",
       "subscribers      int64\n",
       "total_views      int64\n",
       "video_count      int64\n",
       "playlistId      object\n",
       "dtype: object"
      ]
     },
     "execution_count": 49,
     "metadata": {},
     "output_type": "execute_result"
    }
   ],
   "source": [
    "# change datatypes\n",
    "channel_statistics['subscribers'] = pd.to_numeric(channel_statistics['subscribers'])\n",
    "channel_statistics['total_views'] = pd.to_numeric(channel_statistics['total_views'])\n",
    "channel_statistics['video_count'] = pd.to_numeric(channel_statistics['video_count'])\n",
    "channel_statistics.dtypes"
   ]
  },
  {
   "cell_type": "code",
   "execution_count": 56,
   "metadata": {},
   "outputs": [
    {
     "data": {
      "image/png": "[encoded data removed]",
      "text/plain": [
       "<Figure size 720x504 with 1 Axes>"
      ]
     },
     "metadata": {
      "needs_background": "light"
     },
     "output_type": "display_data"
    }
   ],
   "source": [
    "plot_channel_views = channel_statistics.sort_values('total_views')\n",
    "\n",
    "fig, ax = plt.subplots(figsize=(10, 7))\n",
    "ax.barh(plot_channel_views['channel_name'], plot_channel_views['total_views'])\n",
    "\n",
    "# get rid of scientific expression for x axis\n",
    "plt.ticklabel_format(axis=\"x\", style=\"plain\")\n",
    "\n",
    "for index, value in enumerate(plot_channel_views['total_views']):\n",
    "    plt.text(value, index,\n",
    "             str(numerize.numerize(value))) # set the values to compact number\n",
    "plt.xlim([0, 28000000000])\n",
    "\n",
    "plt.show();\n"
   ]
  },
  {
   "cell_type": "code",
   "execution_count": 51,
   "metadata": {},
   "outputs": [
    {
     "data": {
      "text/plain": [
       "407"
      ]
     },
     "execution_count": 51,
     "metadata": {},
     "output_type": "execute_result"
    }
   ],
   "source": [
    "# get_playlist for video_ids\n",
    "get_playlist_ids = get_playlist(youtube, channel_statistics)[0] # blackpink\n",
    "\n",
    "video_ids1 = get_video_ids(youtube, get_playlist_ids)\n",
    "len(video_ids1)"
   ]
  },
  {
   "cell_type": "code",
   "execution_count": 52,
   "metadata": {},
   "outputs": [
    {
     "data": {
      "text/html": [
       "<div>\n",
       "<style scoped>\n",
       "    .dataframe tbody tr th:only-of-type {\n",
       "        vertical-align: middle;\n",
       "    }\n",
       "\n",
       "    .dataframe tbody tr th {\n",
       "        vertical-align: top;\n",
       "    }\n",
       "\n",
       "    .dataframe thead th {\n",
       "        text-align: right;\n",
       "    }\n",
       "</style>\n",
       "<table border=\"1\" class=\"dataframe\">\n",
       "  <thead>\n",
       "    <tr style=\"text-align: right;\">\n",
       "      <th></th>\n",
       "      <th>video_id</th>\n",
       "      <th>title</th>\n",
       "      <th>description</th>\n",
       "      <th>tags</th>\n",
       "      <th>published_at</th>\n",
       "      <th>thumbnails</th>\n",
       "      <th>view_count</th>\n",
       "      <th>like_count</th>\n",
       "      <th>comment_count</th>\n",
       "      <th>duration</th>\n",
       "      <th>definition</th>\n",
       "      <th>caption</th>\n",
       "    </tr>\n",
       "  </thead>\n",
       "  <tbody>\n",
       "    <tr>\n",
       "      <th>0</th>\n",
       "      <td>h86_wjTQ3-U</td>\n",
       "      <td>#PinkVenomChallenge Coming Soon Only on YouTub...</td>\n",
       "      <td>See you soon #BLINKs 🖤💖 #PinkVenomChallenge\\n\\...</td>\n",
       "      <td>[YG Entertainment, YG, 와이지, K-pop, BLACKPINK, ...</td>\n",
       "      <td>2022-08-16T10:00:02Z</td>\n",
       "      <td>https://i.ytimg.com/vi/h86_wjTQ3-U/hqdefault.jpg</td>\n",
       "      <td>529498</td>\n",
       "      <td>180236</td>\n",
       "      <td>6874</td>\n",
       "      <td>PT16S</td>\n",
       "      <td>hd</td>\n",
       "      <td>false</td>\n",
       "    </tr>\n",
       "    <tr>\n",
       "      <th>1</th>\n",
       "      <td>6eCCRvCWez8</td>\n",
       "      <td>BLACKPINK - ‘Pink Venom’ Concept Teaser</td>\n",
       "      <td>#BLACKPINK #블랙핑크 #PreReleaseSingle #PinkVenom ...</td>\n",
       "      <td>[YG Entertainment, YG, 와이지, K-pop, BLACKPINK, ...</td>\n",
       "      <td>2022-08-14T15:00:03Z</td>\n",
       "      <td>https://i.ytimg.com/vi/6eCCRvCWez8/hqdefault.jpg</td>\n",
       "      <td>8866531</td>\n",
       "      <td>1442088</td>\n",
       "      <td>85012</td>\n",
       "      <td>PT18S</td>\n",
       "      <td>hd</td>\n",
       "      <td>false</td>\n",
       "    </tr>\n",
       "    <tr>\n",
       "      <th>2</th>\n",
       "      <td>FQkI9RtkmrI</td>\n",
       "      <td>BLACKPINK - ‘Pink Venom’ JISOO Concept Teaser #2</td>\n",
       "      <td>#BLACKPINK #블랙핑크 #JISOO #지수 #PreReleaseSingle ...</td>\n",
       "      <td>[YG Entertainment, YG, 와이지, K-pop, BLACKPINK, ...</td>\n",
       "      <td>2022-08-13T03:00:17Z</td>\n",
       "      <td>https://i.ytimg.com/vi/FQkI9RtkmrI/hqdefault.jpg</td>\n",
       "      <td>7685595</td>\n",
       "      <td>1176259</td>\n",
       "      <td>73099</td>\n",
       "      <td>PT16S</td>\n",
       "      <td>hd</td>\n",
       "      <td>false</td>\n",
       "    </tr>\n",
       "    <tr>\n",
       "      <th>3</th>\n",
       "      <td>9q3byegECqw</td>\n",
       "      <td>BLACKPINK - ‘Pink Venom’ JENNIE Concept Teaser #2</td>\n",
       "      <td>#BLACKPINK #블랙핑크 #JENNIE #제니 #PreReleaseSingle...</td>\n",
       "      <td>[YG Entertainment, YG, 와이지, K-pop, BLACKPINK, ...</td>\n",
       "      <td>2022-08-13T03:00:04Z</td>\n",
       "      <td>https://i.ytimg.com/vi/9q3byegECqw/hqdefault.jpg</td>\n",
       "      <td>5886666</td>\n",
       "      <td>985148</td>\n",
       "      <td>58819</td>\n",
       "      <td>PT16S</td>\n",
       "      <td>hd</td>\n",
       "      <td>false</td>\n",
       "    </tr>\n",
       "    <tr>\n",
       "      <th>4</th>\n",
       "      <td>7C0TewNgkDM</td>\n",
       "      <td>BLACKPINK - ‘Pink Venom’ ROSÉ Concept Teaser #2</td>\n",
       "      <td>#BLACKPINK #블랙핑크 #ROSÉ #로제 #PreReleaseSingle #...</td>\n",
       "      <td>[YG Entertainment, YG, 와이지, K-pop, BLACKPINK, ...</td>\n",
       "      <td>2022-08-12T15:00:31Z</td>\n",
       "      <td>https://i.ytimg.com/vi/7C0TewNgkDM/hqdefault.jpg</td>\n",
       "      <td>7607883</td>\n",
       "      <td>1208103</td>\n",
       "      <td>65193</td>\n",
       "      <td>PT16S</td>\n",
       "      <td>hd</td>\n",
       "      <td>false</td>\n",
       "    </tr>\n",
       "  </tbody>\n",
       "</table>\n",
       "</div>"
      ],
      "text/plain": [
       "      video_id                                              title  \\\n",
       "0  h86_wjTQ3-U  #PinkVenomChallenge Coming Soon Only on YouTub...   \n",
       "1  6eCCRvCWez8            BLACKPINK - ‘Pink Venom’ Concept Teaser   \n",
       "2  FQkI9RtkmrI   BLACKPINK - ‘Pink Venom’ JISOO Concept Teaser #2   \n",
       "3  9q3byegECqw  BLACKPINK - ‘Pink Venom’ JENNIE Concept Teaser #2   \n",
       "4  7C0TewNgkDM    BLACKPINK - ‘Pink Venom’ ROSÉ Concept Teaser #2   \n",
       "\n",
       "                                         description  \\\n",
       "0  See you soon #BLINKs 🖤💖 #PinkVenomChallenge\\n\\...   \n",
       "1  #BLACKPINK #블랙핑크 #PreReleaseSingle #PinkVenom ...   \n",
       "2  #BLACKPINK #블랙핑크 #JISOO #지수 #PreReleaseSingle ...   \n",
       "3  #BLACKPINK #블랙핑크 #JENNIE #제니 #PreReleaseSingle...   \n",
       "4  #BLACKPINK #블랙핑크 #ROSÉ #로제 #PreReleaseSingle #...   \n",
       "\n",
       "                                                tags          published_at  \\\n",
       "0  [YG Entertainment, YG, 와이지, K-pop, BLACKPINK, ...  2022-08-16T10:00:02Z   \n",
       "1  [YG Entertainment, YG, 와이지, K-pop, BLACKPINK, ...  2022-08-14T15:00:03Z   \n",
       "2  [YG Entertainment, YG, 와이지, K-pop, BLACKPINK, ...  2022-08-13T03:00:17Z   \n",
       "3  [YG Entertainment, YG, 와이지, K-pop, BLACKPINK, ...  2022-08-13T03:00:04Z   \n",
       "4  [YG Entertainment, YG, 와이지, K-pop, BLACKPINK, ...  2022-08-12T15:00:31Z   \n",
       "\n",
       "                                         thumbnails view_count like_count  \\\n",
       "0  https://i.ytimg.com/vi/h86_wjTQ3-U/hqdefault.jpg     529498     180236   \n",
       "1  https://i.ytimg.com/vi/6eCCRvCWez8/hqdefault.jpg    8866531    1442088   \n",
       "2  https://i.ytimg.com/vi/FQkI9RtkmrI/hqdefault.jpg    7685595    1176259   \n",
       "3  https://i.ytimg.com/vi/9q3byegECqw/hqdefault.jpg    5886666     985148   \n",
       "4  https://i.ytimg.com/vi/7C0TewNgkDM/hqdefault.jpg    7607883    1208103   \n",
       "\n",
       "  comment_count duration definition caption  \n",
       "0          6874    PT16S         hd   false  \n",
       "1         85012    PT18S         hd   false  \n",
       "2         73099    PT16S         hd   false  \n",
       "3         58819    PT16S         hd   false  \n",
       "4         65193    PT16S         hd   false  "
      ]
     },
     "execution_count": 52,
     "metadata": {},
     "output_type": "execute_result"
    }
   ],
   "source": [
    "# get only 5 video ids\n",
    "five_video_id = video_ids1[0:5]\n",
    "get_video_details(youtube, five_video_id)"
   ]
  },
  {
   "cell_type": "code",
   "execution_count": 53,
   "metadata": {},
   "outputs": [
    {
     "data": {
      "text/html": [
       "<div>\n",
       "<style scoped>\n",
       "    .dataframe tbody tr th:only-of-type {\n",
       "        vertical-align: middle;\n",
       "    }\n",
       "\n",
       "    .dataframe tbody tr th {\n",
       "        vertical-align: top;\n",
       "    }\n",
       "\n",
       "    .dataframe thead th {\n",
       "        text-align: right;\n",
       "    }\n",
       "</style>\n",
       "<table border=\"1\" class=\"dataframe\">\n",
       "  <thead>\n",
       "    <tr style=\"text-align: right;\">\n",
       "      <th></th>\n",
       "      <th>video_id</th>\n",
       "      <th>comments</th>\n",
       "    </tr>\n",
       "  </thead>\n",
       "  <tbody>\n",
       "    <tr>\n",
       "      <th>0</th>\n",
       "      <td>h86_wjTQ3-U</td>\n",
       "      <td>[Debo felicitar a YG porque está haciendo un g...</td>\n",
       "    </tr>\n",
       "    <tr>\n",
       "      <th>1</th>\n",
       "      <td>6eCCRvCWez8</td>\n",
       "      <td>[Esto es ARTE PURO!! Sonidos muy intrigantes y...</td>\n",
       "    </tr>\n",
       "    <tr>\n",
       "      <th>2</th>\n",
       "      <td>FQkI9RtkmrI</td>\n",
       "      <td>[a era é dela&lt;3, We love you pls come to turke...</td>\n",
       "    </tr>\n",
       "    <tr>\n",
       "      <th>3</th>\n",
       "      <td>9q3byegECqw</td>\n",
       "      <td>[Slayy, Wow, WOW jennie, JENNIE TE AMOO, Pls p...</td>\n",
       "    </tr>\n",
       "    <tr>\n",
       "      <th>4</th>\n",
       "      <td>7C0TewNgkDM</td>\n",
       "      <td>[Nnxicb1j, Skcudn, Pls pls pls come to turkey ...</td>\n",
       "    </tr>\n",
       "  </tbody>\n",
       "</table>\n",
       "</div>"
      ],
      "text/plain": [
       "      video_id                                           comments\n",
       "0  h86_wjTQ3-U  [Debo felicitar a YG porque está haciendo un g...\n",
       "1  6eCCRvCWez8  [Esto es ARTE PURO!! Sonidos muy intrigantes y...\n",
       "2  FQkI9RtkmrI  [a era é dela<3, We love you pls come to turke...\n",
       "3  9q3byegECqw  [Slayy, Wow, WOW jennie, JENNIE TE AMOO, Pls p...\n",
       "4  7C0TewNgkDM  [Nnxicb1j, Skcudn, Pls pls pls come to turkey ..."
      ]
     },
     "execution_count": 53,
     "metadata": {},
     "output_type": "execute_result"
    }
   ],
   "source": [
    "five_video_comments_df = get_comments_in_videos(youtube, five_video_id)\n",
    "five_video_comments_df"
   ]
  },
  {
   "cell_type": "code",
   "execution_count": 61,
   "metadata": {},
   "outputs": [
    {
     "name": "stdout",
     "output_type": "stream",
     "text": [
      "Debo felicitar a YG porque está haciendo un gran trabajo en este comeback! Espero que así siga!\n",
      "🌟🌟🌟❤️❤️❤️\n",
      "BLACKPINK IS THE REVOLUTION.. 🖤💖\n",
      "Que salga yaaaaa\n",
      "Ok I’m waiting\n",
      "Amk yorunlarda Yurt dışından biri yok sjsjsj\n",
      "Imagine blackpink doing lot of dances with idols like how somi did\n",
      "Aaaa nossas meninas cada dia lindas\n",
      "❤\n",
      "Türk bilinkler destek yağmuru gelsin Blackpink Türkiye'ye gelsin\n",
      "Gösterin gücünüzü sizler Türk bilinklersiniz.\n"
     ]
    }
   ],
   "source": [
    "for _ in five_video_comments_df['comments'].iloc[0]:\n",
    "    print(_)"
   ]
  }
 ],
 "metadata": {
  "kernelspec": {
   "display_name": "Python 3.10.5 ('yt-analytics': venv)",
   "language": "python",
   "name": "python3"
  },
  "language_info": {
   "codemirror_mode": {
    "name": "ipython",
    "version": 3
   },
   "file_extension": ".py",
   "mimetype": "text/x-python",
   "name": "python",
   "nbconvert_exporter": "python",
   "pygments_lexer": "ipython3",
   "version": "3.10.5"
  },
  "orig_nbformat": 4,
  "vscode": {
   "interpreter": {
    "hash": "ea024d2ba238a8f2f4415f8a8a9f6356268ec54464ce7e42c9f4e1a3f98d5bef"
   }
  }
 },
 "nbformat": 4,
 "nbformat_minor": 2
}
